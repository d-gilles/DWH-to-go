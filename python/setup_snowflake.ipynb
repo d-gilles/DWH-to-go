{
 "cells": [
  {
   "cell_type": "markdown",
   "metadata": {},
   "source": [
    "# setup snowflake\n",
    "After we cannot use terraform to setup snowflake, I thought that we could use python to do the rest of the setup. We need to make changes to both aws and snowflake to get the connection running. The goal is to achieve this:\n",
    "- create an external staging area on aws S3\n",
    "- load an example data set "
   ]
  },
  {
   "cell_type": "markdown",
   "metadata": {},
   "source": [
    "### imports and variables"
   ]
  },
  {
   "cell_type": "code",
   "execution_count": 103,
   "metadata": {},
   "outputs": [],
   "source": [
    "# imports\n",
    "import boto3\n",
    "import os\n",
    "import snowflake.connector\n",
    "from dotenv import load_dotenv\n",
    "import pandas as pd\n",
    "\n",
    "# load .env\n",
    "load_dotenv()\n",
    "\n",
    "# set variables\n",
    "os.environ[\"AWS_CONFIG_FILE\"] = \"~/.aws/config_terraform\"\n",
    "os.environ[\"AWS_SHARED_CREDENTIALS_FILE\"] = \"~/.aws/cred_terraform\"\n",
    "SNOWFLAKE_ORGANIZATION_NAME = os.getenv('SNOWFLAKE_ORGANIZATION_NAME')\n",
    "SNOWFLAKE_ACCOUNT_NAME = os.getenv('SNOWFLAKE_ACCOUNT_NAME')\n",
    "aws_region = os.getenv('AWS_REGION')\n",
    "aws_profile = os.getenv('AWS_TERRAFORM_USER')"
   ]
  },
  {
   "cell_type": "markdown",
   "metadata": {},
   "source": [
    "### create connections to aws and snowflake"
   ]
  },
  {
   "cell_type": "code",
   "execution_count": 107,
   "metadata": {},
   "outputs": [
    {
     "name": "stdout",
     "output_type": "stream",
     "text": [
      "AWS session established, IAM client created\n"
     ]
    }
   ],
   "source": [
    "# create boto3 session\n",
    "aws_session = boto3.Session(profile_name=aws_profile)\n",
    "\n",
    "# create iam client\n",
    "iam_client = aws_session.client('iam')\n",
    "print(\"AWS session established, IAM client created\")"
   ]
  },
  {
   "cell_type": "code",
   "execution_count": 110,
   "metadata": {},
   "outputs": [
    {
     "name": "stdout",
     "output_type": "stream",
     "text": [
      "Snowflake session established\n"
     ]
    }
   ],
   "source": [
    "# create snowflake session\n",
    "sf_session = snowflake.connector.connect(\n",
    "    user= os.getenv('SNOWFLAKE_ADMIN'),              \n",
    "    password= os.getenv('SNOWSQL_PWD'),           \n",
    "    account= f\"{SNOWFLAKE_ORGANIZATION_NAME}-{SNOWFLAKE_ACCOUNT_NAME}\",\n",
    "    role='ACCOUNTADMIN'                   \n",
    ")\n",
    "print(\"Snowflake session established\")"
   ]
  },
  {
   "cell_type": "code",
   "execution_count": 101,
   "metadata": {},
   "outputs": [],
   "source": [
    "# would be nice to get the results of snowflake as a pandas df\n",
    "def get_table(q): \n",
    "    # executes a given query and gives back the result as a DataFrame\n",
    "    cur = sf_session.cursor()\n",
    "    cur.execute(q)\n",
    "    desc = cur.description\n",
    "    content = cur.fetchall()\n",
    "    columns = []\n",
    "    for i in desc:\n",
    "        columns.append(i[0])\n",
    "    cur.close()\n",
    "    return pd.DataFrame(content, columns=columns).set_index(columns[0])"
   ]
  },
  {
   "cell_type": "markdown",
   "metadata": {},
   "source": [
    "### Now let`s snowflake about the bucket\n",
    "for that we need to\n",
    "- get the arn from the snowflake role on aws\n",
    "- get the uri of the s3 bucket\n",
    "- give those to snowflake to create a storage integration"
   ]
  },
  {
   "cell_type": "code",
   "execution_count": 116,
   "metadata": {},
   "outputs": [],
   "source": [
    "snowflake_role = iam_client.get_role(RoleName='Snowflake_Role')\n",
    "snowflake_role_arn = snowflake_role['Role']['Arn']\n",
    "s3_uri = f\"s3://{os.getenv('PROJECT_NAME')}-i{os.getenv('ITERATION')}-data-lake/staging\""
   ]
  },
  {
   "cell_type": "code",
   "execution_count": 112,
   "metadata": {},
   "outputs": [
    {
     "name": "stdout",
     "output_type": "stream",
     "text": [
      "002002 (42710): SQL compilation error:\n",
      "Object 'S3_STORAGE_INTEGRATION' already exists.\n"
     ]
    }
   ],
   "source": [
    "# create s3 storage integration\n",
    "create_s3_integration = f\"\"\"\n",
    "    CREATE STORAGE INTEGRATION s3_storage_integration\n",
    "    TYPE = EXTERNAL_STAGE\n",
    "    STORAGE_PROVIDER = 'S3'\n",
    "    ENABLED = TRUE\n",
    "    STORAGE_AWS_ROLE_ARN = '{snowflake_role_arn}'\n",
    "    STORAGE_ALLOWED_LOCATIONS = ('{s3_uri}');\"\"\"\n",
    "try:\n",
    "    get_table(create_s3_integration)\n",
    "    print(\"S3 Storage Integration Created\")\n",
    "except Exception as e:\n",
    "    print(e)"
   ]
  },
  {
   "cell_type": "markdown",
   "metadata": {},
   "source": [
    "### now we can get the properties of the integration from snowflake\n",
    "... and update the role policy on aws accordingly"
   ]
  },
  {
   "cell_type": "code",
   "execution_count": 113,
   "metadata": {},
   "outputs": [
    {
     "data": {
      "text/html": [
       "<div>\n",
       "<style scoped>\n",
       "    .dataframe tbody tr th:only-of-type {\n",
       "        vertical-align: middle;\n",
       "    }\n",
       "\n",
       "    .dataframe tbody tr th {\n",
       "        vertical-align: top;\n",
       "    }\n",
       "\n",
       "    .dataframe thead th {\n",
       "        text-align: right;\n",
       "    }\n",
       "</style>\n",
       "<table border=\"1\" class=\"dataframe\">\n",
       "  <thead>\n",
       "    <tr style=\"text-align: right;\">\n",
       "      <th></th>\n",
       "      <th>property_type</th>\n",
       "      <th>property_value</th>\n",
       "      <th>property_default</th>\n",
       "    </tr>\n",
       "    <tr>\n",
       "      <th>property</th>\n",
       "      <th></th>\n",
       "      <th></th>\n",
       "      <th></th>\n",
       "    </tr>\n",
       "  </thead>\n",
       "  <tbody>\n",
       "    <tr>\n",
       "      <th>ENABLED</th>\n",
       "      <td>Boolean</td>\n",
       "      <td>true</td>\n",
       "      <td>false</td>\n",
       "    </tr>\n",
       "    <tr>\n",
       "      <th>STORAGE_PROVIDER</th>\n",
       "      <td>String</td>\n",
       "      <td>S3</td>\n",
       "      <td></td>\n",
       "    </tr>\n",
       "    <tr>\n",
       "      <th>STORAGE_ALLOWED_LOCATIONS</th>\n",
       "      <td>List</td>\n",
       "      <td>s3://lenico-dwh-i1-data-lake/staging</td>\n",
       "      <td>[]</td>\n",
       "    </tr>\n",
       "    <tr>\n",
       "      <th>STORAGE_BLOCKED_LOCATIONS</th>\n",
       "      <td>List</td>\n",
       "      <td></td>\n",
       "      <td>[]</td>\n",
       "    </tr>\n",
       "    <tr>\n",
       "      <th>STORAGE_AWS_IAM_USER_ARN</th>\n",
       "      <td>String</td>\n",
       "      <td>arn:aws:iam::881490105466:user/2avs0000-s</td>\n",
       "      <td></td>\n",
       "    </tr>\n",
       "    <tr>\n",
       "      <th>STORAGE_AWS_ROLE_ARN</th>\n",
       "      <td>String</td>\n",
       "      <td>arn:aws:iam::842676020554:role/snowflake_role</td>\n",
       "      <td></td>\n",
       "    </tr>\n",
       "    <tr>\n",
       "      <th>STORAGE_AWS_EXTERNAL_ID</th>\n",
       "      <td>String</td>\n",
       "      <td>ZT70795_SFCRole=2_eZWIrqwDeHBym60yLJteA2y8fh4=</td>\n",
       "      <td></td>\n",
       "    </tr>\n",
       "    <tr>\n",
       "      <th>COMMENT</th>\n",
       "      <td>String</td>\n",
       "      <td></td>\n",
       "      <td></td>\n",
       "    </tr>\n",
       "  </tbody>\n",
       "</table>\n",
       "</div>"
      ],
      "text/plain": [
       "                          property_type  \\\n",
       "property                                  \n",
       "ENABLED                         Boolean   \n",
       "STORAGE_PROVIDER                 String   \n",
       "STORAGE_ALLOWED_LOCATIONS          List   \n",
       "STORAGE_BLOCKED_LOCATIONS          List   \n",
       "STORAGE_AWS_IAM_USER_ARN         String   \n",
       "STORAGE_AWS_ROLE_ARN             String   \n",
       "STORAGE_AWS_EXTERNAL_ID          String   \n",
       "COMMENT                          String   \n",
       "\n",
       "                                                           property_value  \\\n",
       "property                                                                    \n",
       "ENABLED                                                              true   \n",
       "STORAGE_PROVIDER                                                       S3   \n",
       "STORAGE_ALLOWED_LOCATIONS            s3://lenico-dwh-i1-data-lake/staging   \n",
       "STORAGE_BLOCKED_LOCATIONS                                                   \n",
       "STORAGE_AWS_IAM_USER_ARN        arn:aws:iam::881490105466:user/2avs0000-s   \n",
       "STORAGE_AWS_ROLE_ARN        arn:aws:iam::842676020554:role/snowflake_role   \n",
       "STORAGE_AWS_EXTERNAL_ID    ZT70795_SFCRole=2_eZWIrqwDeHBym60yLJteA2y8fh4=   \n",
       "COMMENT                                                                     \n",
       "\n",
       "                          property_default  \n",
       "property                                    \n",
       "ENABLED                              false  \n",
       "STORAGE_PROVIDER                            \n",
       "STORAGE_ALLOWED_LOCATIONS               []  \n",
       "STORAGE_BLOCKED_LOCATIONS               []  \n",
       "STORAGE_AWS_IAM_USER_ARN                    \n",
       "STORAGE_AWS_ROLE_ARN                        \n",
       "STORAGE_AWS_EXTERNAL_ID                     \n",
       "COMMENT                                     "
      ]
     },
     "execution_count": 113,
     "metadata": {},
     "output_type": "execute_result"
    }
   ],
   "source": [
    "q =\"DESC INTEGRATION s3_storage_integration;\"\n",
    "s3_integration_properties = get_table(q)\n",
    "s3_integration_properties"
   ]
  },
  {
   "cell_type": "code",
   "execution_count": 115,
   "metadata": {},
   "outputs": [],
   "source": [
    "STORAGE_AWS_IAM_USER_ARN = s3_integration_properties.loc['STORAGE_AWS_IAM_USER_ARN','property_value']\n",
    "STORAGE_AWS_EXTERNAL_ID\t= s3_integration_properties.loc['STORAGE_AWS_EXTERNAL_ID','property_value']"
   ]
  },
  {
   "cell_type": "markdown",
   "metadata": {},
   "source": [
    "### now we have the values we need, let's take a look at the json file to update"
   ]
  },
  {
   "cell_type": "code",
   "execution_count": 114,
   "metadata": {},
   "outputs": [
    {
     "name": "stdout",
     "output_type": "stream",
     "text": [
      "{'Role': {'Path': '/',\n",
      "          'RoleName': 'snowflake_role',\n",
      "          'RoleId': 'AROA4IM3HUVFBYBO7WDYE',\n",
      "          'Arn': 'arn:aws:iam::842676020554:role/snowflake_role',\n",
      "          'CreateDate': datetime.datetime(2024, 12, 4, 16, 47, 29, tzinfo=tzutc()),\n",
      "          'AssumeRolePolicyDocument': {'Version': '2012-10-17',\n",
      "                                       'Statement': [{'Effect': 'Allow',\n",
      "                                                      'Principal': {'Service': 's3.amazonaws.com'},\n",
      "                                                      'Action': 'sts:AssumeRole'}]},\n",
      "          'Description': 'Updated description for Snowflake role',\n",
      "          'MaxSessionDuration': 3600,\n",
      "          'RoleLastUsed': {}},\n",
      " 'ResponseMetadata': {'RequestId': '5b12d26b-1118-42bd-9c42-f4c2efaa49cc',\n",
      "                      'HTTPStatusCode': 200,\n",
      "                      'HTTPHeaders': {'date': 'Wed, 04 Dec 2024 20:06:19 GMT',\n",
      "                                      'x-amzn-requestid': '5b12d26b-1118-42bd-9c42-f4c2efaa49cc',\n",
      "                                      'content-type': 'text/xml',\n",
      "                                      'content-length': '885'},\n",
      "                      'RetryAttempts': 0}}\n"
     ]
    }
   ],
   "source": [
    "pprint(snowflake_role,sort_dicts=False)"
   ]
  },
  {
   "cell_type": "code",
   "execution_count": null,
   "metadata": {},
   "outputs": [],
   "source": [
    "# change the Trusted entities in the AssumeRolePolity\n",
    "new_assume_role_policy_document = {\n",
    "            \"Version\": \"2012-10-17\",\n",
    "            \"Statement\": [\n",
    "                {\n",
    "                \"Effect\": \"Allow\",\n",
    "                \"Principal\": {\"AWS\": STORAGE_AWS_IAM_USER_ARN},\n",
    "                \"Action\": \"sts:AssumeRole\",\n",
    "                \"Condition\": {\"StringEquals\": {\"sts:ExternalId\": STORAGE_AWS_EXTERNAL_ID}}\n",
    "                }\n",
    "            ]\n",
    "        }\n"
   ]
  },
  {
   "cell_type": "code",
   "execution_count": 121,
   "metadata": {},
   "outputs": [
    {
     "name": "stdout",
     "output_type": "stream",
     "text": [
      "AssumeRolePolicy der Rolle snowflake_role erfolgreich aktualisiert.\n"
     ]
    }
   ],
   "source": [
    "\n",
    "# Update the AssumeRolePolicy of the Snowflake_Role\n",
    "try:\n",
    "    iam_client.update_assume_role_policy(\n",
    "        RoleName='Snowflake_Role',\n",
    "        PolicyDocument=json.dumps(new_assume_role_policy_document)\n",
    "    )\n",
    "    print(f\"AssumeRolePolicy der Rolle {role_name} erfolgreich aktualisiert.\")\n",
    "except Exception as e:\n",
    "    print(f\"Fehler beim Aktualisieren der Rolle: {e}\")\n"
   ]
  },
  {
   "cell_type": "markdown",
   "metadata": {},
   "source": [
    "## now the statement should be updated - aws and snowflake are now connected"
   ]
  },
  {
   "cell_type": "code",
   "execution_count": 99,
   "metadata": {},
   "outputs": [
    {
     "data": {
      "text/plain": [
       "{'Version': '2012-10-17',\n",
       " 'Statement': [{'Effect': 'Allow',\n",
       "   'Principal': {'AWS': 'arn:aws:iam::881490105466:user/2avs0000-s'},\n",
       "   'Action': 'sts:AssumeRole',\n",
       "   'Condition': {'StringEquals': {'sts:ExternalId': 'ZT70795_SFCRole=2_OPCer6Vn//V57ebu2+NqJCP8JuA='}}}]}"
      ]
     },
     "execution_count": 99,
     "metadata": {},
     "output_type": "execute_result"
    }
   ],
   "source": [
    "iam_client.get_role(\n",
    "    RoleName=role_name)['Role']['AssumeRolePolicyDocument']\n"
   ]
  },
  {
   "cell_type": "markdown",
   "metadata": {},
   "source": []
  }
 ],
 "metadata": {
  "kernelspec": {
   "display_name": "tf-sf",
   "language": "python",
   "name": "python3"
  },
  "language_info": {
   "codemirror_mode": {
    "name": "ipython",
    "version": 3
   },
   "file_extension": ".py",
   "mimetype": "text/x-python",
   "name": "python",
   "nbconvert_exporter": "python",
   "pygments_lexer": "ipython3",
   "version": "3.9.11"
  }
 },
 "nbformat": 4,
 "nbformat_minor": 2
}
